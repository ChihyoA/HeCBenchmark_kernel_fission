{
 "cells": [
  {
   "cell_type": "code",
   "execution_count": null,
   "id": "bc4b0e6c",
   "metadata": {},
   "outputs": [],
   "source": [
    "%load_ext autoreload\n",
    "%autoreload 2"
   ]
  },
  {
   "cell_type": "code",
   "execution_count": null,
   "id": "805b0bff",
   "metadata": {},
   "outputs": [],
   "source": [
    "import os\n",
    "import sys\n",
    "import inspect\n",
    "\n",
    "currentdir = os.path.dirname(os.path.abspath(inspect.getfile(inspect.currentframe())))\n",
    "parentdir = os.path.dirname(currentdir)\n",
    "sys.path.insert(0, parentdir) "
   ]
  },
  {
   "cell_type": "code",
   "execution_count": null,
   "id": "329808f3",
   "metadata": {},
   "outputs": [],
   "source": [
    "from scripts.plot_timed_cuda import *"
   ]
  },
  {
   "cell_type": "code",
   "execution_count": null,
   "id": "89c2347e",
   "metadata": {},
   "outputs": [],
   "source": [
    "plt.rcParams['figure.figsize'] = [6, 2]\n",
    "plt.rcParams['figure.dpi'] = 400"
   ]
  },
  {
   "cell_type": "code",
   "execution_count": null,
   "id": "b30dfa0f",
   "metadata": {},
   "outputs": [],
   "source": [
    "timing_summaries_mincut = get_timing_summaries([\n",
    "    get_last_n_files(\"../results/openmp/out/2022-03-28T16:33:57,184335019+09:00.out\", 5), # openmp clang intel/1/24\n",
    "    get_last_n_files(\"../results/openmp/out/2022-03-28T17:50:24,491230821+09:00.out\", 3), # openmp polygeist intel/1/24\n",
    "\n",
    "    ],\n",
    "only_from=None)\n",
    "[summary[0] for summary in timing_summaries_mincut]"
   ]
  },
  {
   "cell_type": "code",
   "execution_count": null,
   "id": "b49afb4f",
   "metadata": {},
   "outputs": [],
   "source": [
    "legend = ['clang', 'polygeist', ]\n",
    "#legend = None"
   ]
  },
  {
   "cell_type": "code",
   "execution_count": null,
   "id": "48592bfd",
   "metadata": {},
   "outputs": [],
   "source": [
    "performance_difference(timing_summaries_mincut[0], timing_summaries_mincut[1])\n",
    "performance_difference_geometric(timing_summaries_mincut[0], timing_summaries_mincut[1])\n",
    "\n"
   ]
  },
  {
   "cell_type": "code",
   "execution_count": null,
   "id": "46bd27a7",
   "metadata": {},
   "outputs": [],
   "source": [
    "plot_summaries(timing_summaries_mincut, normalize=0, log_scale = True, draw_legend=True, legend = legend, legend_anchor = (0.5, -1.6))"
   ]
  },
  {
   "cell_type": "code",
   "execution_count": null,
   "id": "e6bb7d01",
   "metadata": {},
   "outputs": [],
   "source": [
    "%debug"
   ]
  },
  {
   "cell_type": "code",
   "execution_count": null,
   "id": "24ab6b88",
   "metadata": {},
   "outputs": [],
   "source": [
    "legend = ['CUDA on NVIDIA A100', 'OpenMP on AMD EPYC 7302', 'cpucuda on AMD EPYC 7302']\n",
    "plot_summaries(_timing_summaries, normalize=0, legend=legend)"
   ]
  },
  {
   "cell_type": "code",
   "execution_count": null,
   "id": "5ee05c82",
   "metadata": {},
   "outputs": [],
   "source": []
  }
 ],
 "metadata": {
  "kernelspec": {
   "display_name": "Python 3",
   "language": "python",
   "name": "python3"
  },
  "language_info": {
   "codemirror_mode": {
    "name": "ipython",
    "version": 3
   },
   "file_extension": ".py",
   "mimetype": "text/x-python",
   "name": "python",
   "nbconvert_exporter": "python",
   "pygments_lexer": "ipython3",
   "version": "3.6.8"
  }
 },
 "nbformat": 4,
 "nbformat_minor": 5
}
