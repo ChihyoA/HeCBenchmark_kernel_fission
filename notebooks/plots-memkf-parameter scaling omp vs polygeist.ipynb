{
 "cells": [
  {
   "cell_type": "code",
   "execution_count": null,
   "id": "bc4b0e6c",
   "metadata": {},
   "outputs": [],
   "source": [
    "%load_ext autoreload\n",
    "%autoreload 2"
   ]
  },
  {
   "cell_type": "code",
   "execution_count": null,
   "id": "805b0bff",
   "metadata": {},
   "outputs": [],
   "source": [
    "import os\n",
    "import sys\n",
    "import inspect\n",
    "\n",
    "currentdir = os.path.dirname(os.path.abspath(inspect.getfile(inspect.currentframe())))\n",
    "parentdir = os.path.dirname(currentdir)\n",
    "sys.path.insert(0, parentdir) "
   ]
  },
  {
   "cell_type": "code",
   "execution_count": null,
   "id": "329808f3",
   "metadata": {},
   "outputs": [],
   "source": [
    "from scripts.plot_timed_cuda import *"
   ]
  },
  {
   "cell_type": "code",
   "execution_count": null,
   "id": "89c2347e",
   "metadata": {},
   "outputs": [],
   "source": [
    "plt.rcParams['figure.figsize'] = [6, 5]\n",
    "plt.rcParams['figure.dpi'] = 400"
   ]
  },
  {
   "cell_type": "code",
   "execution_count": null,
   "id": "b30dfa0f",
   "metadata": {},
   "outputs": [],
   "source": [
    "timing_summaries_fns = [\n",
    "    *get_last_n_files(\"../results/cuda/out/2022-03-28T19:38:16,608501437+09:00.out\", 3 * 6), # openmp clang intel/1/24\n",
    "    *get_last_n_files(\"../results/openmp/out/2022-03-29T08:11:02,615523304+09:00.out\", 3 * 6), # openmp polygeist intel/1/24\n",
    "    ]\n",
    "[summary for summary in get_timing_summaries(timing_summaries_fns)]"
   ]
  },
  {
   "cell_type": "code",
   "execution_count": null,
   "id": "b49afb4f",
   "metadata": {},
   "outputs": [],
   "source": [
    "legend = ['clang', 'polygeist', ]\n",
    "#legend = None"
   ]
  },
  {
   "cell_type": "code",
   "execution_count": null,
   "id": "46bd27a7",
   "metadata": {},
   "outputs": [],
   "source": [
    "plot_scaling(timing_summaries_fns, compare=[' polygeist.mincut'], only_from = measurements_polygeist_kernels, legend = legend, title='Scaling', log_scale = True)\n",
    "plot_scaling(timing_summaries_fns, compare=[' openmp.polygeist-clang'], only_from = measurements_polygeist_kernels, legend = legend, title='Scaling', log_scale = True)\n",
    "plot_scaling(timing_summaries_fns, compare=[' polygeist.mincut', ' openmp.polygeist-clang'], only_from = measurements_polygeist_kernels, legend = legend, title='Scaling', log_scale = True)"
   ]
  },
  {
   "cell_type": "code",
   "execution_count": null,
   "id": "d11f370e",
   "metadata": {},
   "outputs": [],
   "source": []
  },
  {
   "cell_type": "code",
   "execution_count": null,
   "id": "e6bb7d01",
   "metadata": {},
   "outputs": [],
   "source": [
    "%debug"
   ]
  },
  {
   "cell_type": "code",
   "execution_count": null,
   "id": "24ab6b88",
   "metadata": {},
   "outputs": [],
   "source": [
    "legend = ['CUDA on NVIDIA A100', 'OpenMP on AMD EPYC 7302', 'cpucuda on AMD EPYC 7302']\n",
    "plot_summaries(_timing_summaries, normalize=0, legend=legend)"
   ]
  },
  {
   "cell_type": "code",
   "execution_count": null,
   "id": "5ee05c82",
   "metadata": {},
   "outputs": [],
   "source": []
  }
 ],
 "metadata": {
  "kernelspec": {
   "display_name": "Python 3",
   "language": "python",
   "name": "python3"
  },
  "language_info": {
   "codemirror_mode": {
    "name": "ipython",
    "version": 3
   },
   "file_extension": ".py",
   "mimetype": "text/x-python",
   "name": "python",
   "nbconvert_exporter": "python",
   "pygments_lexer": "ipython3",
   "version": "3.6.8"
  }
 },
 "nbformat": 4,
 "nbformat_minor": 5
}
