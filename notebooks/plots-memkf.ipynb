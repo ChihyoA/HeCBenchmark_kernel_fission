{
 "cells": [
  {
   "cell_type": "code",
   "execution_count": null,
   "id": "bc4b0e6c",
   "metadata": {},
   "outputs": [],
   "source": [
    "%load_ext autoreload\n",
    "%autoreload 2"
   ]
  },
  {
   "cell_type": "code",
   "execution_count": null,
   "id": "805b0bff",
   "metadata": {},
   "outputs": [],
   "source": [
    "import os\n",
    "import sys\n",
    "import inspect\n",
    "\n",
    "currentdir = os.path.dirname(os.path.abspath(inspect.getfile(inspect.currentframe())))\n",
    "parentdir = os.path.dirname(currentdir)\n",
    "sys.path.insert(0, parentdir) "
   ]
  },
  {
   "cell_type": "code",
   "execution_count": null,
   "id": "329808f3",
   "metadata": {},
   "outputs": [],
   "source": [
    "from scripts.plot_timed_cuda import *"
   ]
  },
  {
   "cell_type": "code",
   "execution_count": null,
   "id": "89c2347e",
   "metadata": {},
   "outputs": [],
   "source": [
    "plt.rcParams['figure.figsize'] = [30, 10]\n",
    "plt.rcParams['figure.dpi'] = 400"
   ]
  },
  {
   "cell_type": "code",
   "execution_count": null,
   "id": "b30dfa0f",
   "metadata": {
    "scrolled": true
   },
   "outputs": [],
   "source": [
    "timing_summaries_mincut = get_timing_summaries([\n",
    "        \"../../rodinia/results/cuda/out/2022-03-24T03:51:39,568933879+0900.out\", # nvcc\n",
    "        *get_last_n_files(\"../results/openmp/out/2022-03-22T10:52:33,805072240+09:00.out\", 20), # openmp intel/1/24\n",
    "        *get_last_n_files(\"../results/cuda/out/2022-03-22T13:15:54,182270693+09:00.out\", 10), # polygeist loop distrib intel/1/24\n",
    "        *get_last_n_files(\"../results/cuda/out/2022-03-22T14:16:37,802270587+09:00.out\", 10), # polygeist loop distrib mincut intel/1/24 \n",
    "        *get_last_n_files(\"../results/cuda/out/2022-03-22T11:41:45,335752975+09:00.out\", 10), # polygeist continuation intel/1/24\n",
    "        *get_last_n_files(\"../results/cuda/out/2022-03-24T02:13:43,155407166+09:00.out\", 20), # polygeist loop distrib mincut raise to affine scal rep 0 intel/1/24\n",
    "        *get_last_n_files(\"../results/cuda/out/2022-03-24T03:22:15,473381918+09:00.out\", 20), # polygeist loop distrib mincut raise to affine scal rep 1 intel/1/24\n",
    "    ],\n",
    "only_from=measurements_polygeist)"
   ]
  },
  {
   "cell_type": "code",
   "execution_count": null,
   "id": "46bd27a7",
   "metadata": {},
   "outputs": [],
   "source": [
    "plot_summaries(timing_summaries_mincut, normalize=0, log_scale = True, draw_legend=True)"
   ]
  },
  {
   "cell_type": "code",
   "execution_count": null,
   "id": "94b21724",
   "metadata": {
    "scrolled": true
   },
   "outputs": [],
   "source": [
    "        create_file_timing_data_summary(read_timing_data_from_files([\"../../rodinia/results/cuda/out/2022-03-24T03:51:39,568933879+0900.out\"]))\n"
   ]
  },
  {
   "cell_type": "code",
   "execution_count": null,
   "id": "07034dac",
   "metadata": {},
   "outputs": [],
   "source": [
    "\n",
    "get_timing_summaries([\n",
    "        \"../../rodinia/results/cuda/out/2022-03-24T03:51:39,568933879+0900.out\"])"
   ]
  },
  {
   "cell_type": "code",
   "execution_count": null,
   "id": "1b4f33d1",
   "metadata": {},
   "outputs": [],
   "source": [
    "timing_files = timing_files64"
   ]
  },
  {
   "cell_type": "code",
   "execution_count": null,
   "id": "4cad5304",
   "metadata": {},
   "outputs": [],
   "source": [
    "timing_summaries = [create_file_timing_data_summary(read_timing_data_from_file(f)) for f in timing_files]"
   ]
  },
  {
   "cell_type": "code",
   "execution_count": null,
   "id": "b440f5e7",
   "metadata": {},
   "outputs": [],
   "source": [
    "timing_summaries"
   ]
  },
  {
   "cell_type": "code",
   "execution_count": null,
   "id": "beb05863",
   "metadata": {
    "scrolled": true
   },
   "outputs": [],
   "source": [
    "plot_summaries(timing_summaries, normalize=0)"
   ]
  },
  {
   "cell_type": "code",
   "execution_count": null,
   "id": "e6bb7d01",
   "metadata": {},
   "outputs": [],
   "source": [
    "_timing_summaries = timing_summaries[:-1]"
   ]
  },
  {
   "cell_type": "code",
   "execution_count": null,
   "id": "24ab6b88",
   "metadata": {},
   "outputs": [],
   "source": [
    "legend = ['CUDA on NVIDIA A100', 'OpenMP on AMD EPYC 7302', 'cpucuda on AMD EPYC 7302']\n",
    "plot_summaries(_timing_summaries, normalize=0, legend=legend)"
   ]
  },
  {
   "cell_type": "code",
   "execution_count": null,
   "id": "5ee05c82",
   "metadata": {},
   "outputs": [],
   "source": []
  }
 ],
 "metadata": {
  "kernelspec": {
   "display_name": "Python 3",
   "language": "python",
   "name": "python3"
  },
  "language_info": {
   "codemirror_mode": {
    "name": "ipython",
    "version": 3
   },
   "file_extension": ".py",
   "mimetype": "text/x-python",
   "name": "python",
   "nbconvert_exporter": "python",
   "pygments_lexer": "ipython3",
   "version": "3.6.8"
  }
 },
 "nbformat": 4,
 "nbformat_minor": 5
}
