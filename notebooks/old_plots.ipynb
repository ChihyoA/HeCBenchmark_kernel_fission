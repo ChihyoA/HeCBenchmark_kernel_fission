{
 "cells": [
  {
   "cell_type": "code",
   "execution_count": null,
   "id": "bc4b0e6c",
   "metadata": {},
   "outputs": [],
   "source": [
    "%load_ext autoreload\n"
   ]
  },
  {
   "cell_type": "code",
   "execution_count": null,
   "id": "d59a16af",
   "metadata": {},
   "outputs": [],
   "source": [
    "%autoreload 2"
   ]
  },
  {
   "cell_type": "code",
   "execution_count": null,
   "id": "329808f3",
   "metadata": {},
   "outputs": [],
   "source": [
    "from scripts.plot_timed_cuda import *"
   ]
  },
  {
   "cell_type": "code",
   "execution_count": null,
   "id": "9d53bd43",
   "metadata": {},
   "outputs": [],
   "source": [
    "plt.rcParams['figure.figsize'] = [30, 10]"
   ]
  },
  {
   "cell_type": "code",
   "execution_count": null,
   "id": "89c2347e",
   "metadata": {},
   "outputs": [],
   "source": [
    "plt.rcParams['figure.dpi'] = 200"
   ]
  },
  {
   "cell_type": "code",
   "execution_count": null,
   "id": "4cad5304",
   "metadata": {},
   "outputs": [],
   "source": [
    "timing_files = [\n",
    "    \"results_kiev0/timed_cuda/2021-11-09T21:16:41,566383659+0900.out\", # nvcc\n",
    "    \"results/openmp/out/2021-11-10T13:09:32,952708112+09:00.out\", # openmp 64\n",
    "    \"results/timed_cuda/2021-11-09T21:58:53,122265283+09:00.out\", # cpucuda 64\n",
    "    #\"results/timed_cuda/2021-11-09T23:34:07,689180133+09:00.out\", # cpucuda 32\n",
    "    #\"results/timed_cuda/2021-11-09T23:38:52,680704699+09:00.out\", # cpucuda 16\n",
    "    #\"results/timed_cuda/2021-11-09T23:46:35,755947943+09:00.out\", # cpucuda 8\n",
    "    #\"results/timed_cuda/2021-11-09T23:42:13,708674610+09:00.out\", # cpucuda 1\n",
    "    \"results/timed_cuda/2021-11-10T09:11:06,931546865+09:00.out\", # polygeist 64\n",
    "]\n",
    "timing_summaries = [create_file_timing_data_summary(read_timing_data_from_file(f)) for f in timing_files]"
   ]
  },
  {
   "cell_type": "code",
   "execution_count": null,
   "id": "beb05863",
   "metadata": {},
   "outputs": [],
   "source": [
    "plot_summaries(timing_summaries, normalize=0)"
   ]
  },
  {
   "cell_type": "code",
   "execution_count": null,
   "id": "e6bb7d01",
   "metadata": {},
   "outputs": [],
   "source": []
  },
  {
   "cell_type": "code",
   "execution_count": null,
   "id": "24ab6b88",
   "metadata": {},
   "outputs": [],
   "source": []
  }
 ],
 "metadata": {
  "kernelspec": {
   "display_name": "Python 3 (ipykernel)",
   "language": "python",
   "name": "python3"
  },
  "language_info": {
   "codemirror_mode": {
    "name": "ipython",
    "version": 3
   },
   "file_extension": ".py",
   "mimetype": "text/x-python",
   "name": "python",
   "nbconvert_exporter": "python",
   "pygments_lexer": "ipython3",
   "version": "3.9.4"
  }
 },
 "nbformat": 4,
 "nbformat_minor": 5
}
