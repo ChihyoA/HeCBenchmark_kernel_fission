{
 "cells": [
  {
   "cell_type": "code",
   "execution_count": null,
   "id": "bc4b0e6c",
   "metadata": {},
   "outputs": [],
   "source": [
    "%load_ext autoreload\n",
    "%autoreload 2"
   ]
  },
  {
   "cell_type": "code",
   "execution_count": null,
   "id": "805b0bff",
   "metadata": {},
   "outputs": [],
   "source": [
    "import os\n",
    "import sys\n",
    "import inspect\n",
    "\n",
    "currentdir = os.path.dirname(os.path.abspath(inspect.getfile(inspect.currentframe())))\n",
    "parentdir = os.path.dirname(currentdir)\n",
    "sys.path.insert(0, parentdir) "
   ]
  },
  {
   "cell_type": "code",
   "execution_count": null,
   "id": "329808f3",
   "metadata": {},
   "outputs": [],
   "source": [
    "from scripts.plot_timed_cuda import *"
   ]
  },
  {
   "cell_type": "code",
   "execution_count": null,
   "id": "89c2347e",
   "metadata": {},
   "outputs": [],
   "source": [
    "plt.rcParams['figure.figsize'] = [30, 10]\n",
    "plt.rcParams['figure.dpi'] = 200"
   ]
  },
  {
   "cell_type": "code",
   "execution_count": null,
   "id": "ad72f517",
   "metadata": {},
   "outputs": [],
   "source": [
    "timing_files64 = [\n",
    "#    \"../kiev0/results/cuda/out/2021-11-10T15:07:31,019910460+0900.out\", # nvcc old\n",
    "#    \"../results/openmp/out/2021-11-10T15:15:35,626196546+09:00.out\", # openmp 64 old\n",
    "#    \"../results/cuda/out/2021-11-10T15:16:19,157033767+09:00.out\", # cpucuda 64 old\n",
    "    \"../kiev0/results/cuda/out/2021-12-06T18:50:57,497711605+0900.out\", # nvcc\n",
    "    \"../results/openmp/out/2021-12-06T18:11:23,266134850+09:00.out\", # openmp 64\n",
    "    \"../results/cuda/out/2021-12-06T18:41:04,856059379+09:00.out\", # cpucuda 64\n",
    "#    \"../results/cuda/out/2021-12-10T12:05:33,390547016+09:00.out\", # polygeist 64\n",
    "#    \"../results/cuda/out/2022-01-07T10:31:57,402269515+09:00.out\", # polygeist 64\n",
    "    \"../results/cuda/out/2022-01-19T10:49:28,933863837+09:00.out\", # polygeist 64\n",
    "]"
   ]
  },
  {
   "cell_type": "code",
   "execution_count": null,
   "id": "9f4cd95f",
   "metadata": {},
   "outputs": [],
   "source": [
    "timing_files4 = [\n",
    "    \"../kiev0/results/cuda/out/2021-12-06T18:50:57,497711605+0900.out\", # nvcc\n",
    "    \"../results/openmp/out/2021-12-06T19:12:14,180214691+09:00.out\", # openmp 64\n",
    "    \"../results/cuda/out/2021-12-06T19:14:12,250351537+09:00.out\", # cpucuda 64\n",
    "#    \"../results/timed_cuda/2021-11-10T09:11:06,931546865+09:00.out\", # polygeist 64\n",
    "]"
   ]
  },
  {
   "cell_type": "code",
   "execution_count": null,
   "id": "2015e824",
   "metadata": {},
   "outputs": [],
   "source": [
    "timing_files2 = [\n",
    "    \"../kiev0/results/cuda/out/2021-12-06T18:50:57,497711605+0900.out\", # nvcc\n",
    "    \"../results/openmp/out/2021-12-07T12:39:12,222705303+09:00.out\", # openmp 64\n",
    "    \"../results/cuda/out/2021-12-07T10:51:01,431077239+09:00.out\", # cpucuda 64\n",
    "#    \"../results/timed_cuda/2021-11-10T09:11:06,931546865+09:00.out\", # polygeist 64\n",
    "]"
   ]
  },
  {
   "cell_type": "code",
   "execution_count": null,
   "id": "10d45399",
   "metadata": {},
   "outputs": [],
   "source": [
    "timing_files1 = [\n",
    "    \"../kiev0/results/cuda/out/2021-12-06T18:50:57,497711605+0900.out\", # nvcc\n",
    "    \"../results/openmp/out/2021-12-06T19:18:55,721007603+09:00.out\", # openmp 64\n",
    "    \"../results/cuda/out/2021-12-07T10:36:32,042610963+09:00.out\", # cpucuda 64\n",
    "#    \"../results/timed_cuda/2021-11-10T09:11:06,931546865+09:00.out\", # polygeist 64\n",
    "]"
   ]
  },
  {
   "cell_type": "code",
   "execution_count": null,
   "id": "1b4f33d1",
   "metadata": {},
   "outputs": [],
   "source": [
    "timing_files = timing_files64"
   ]
  },
  {
   "cell_type": "code",
   "execution_count": null,
   "id": "4cad5304",
   "metadata": {},
   "outputs": [],
   "source": [
    "timing_summaries = [create_file_timing_data_summary(read_timing_data_from_file(f)) for f in timing_files]"
   ]
  },
  {
   "cell_type": "code",
   "execution_count": null,
   "id": "b440f5e7",
   "metadata": {},
   "outputs": [],
   "source": [
    "timing_summaries"
   ]
  },
  {
   "cell_type": "code",
   "execution_count": null,
   "id": "beb05863",
   "metadata": {},
   "outputs": [],
   "source": [
    "plot_summaries(timing_summaries, normalize=0)"
   ]
  },
  {
   "cell_type": "code",
   "execution_count": null,
   "id": "e6bb7d01",
   "metadata": {},
   "outputs": [],
   "source": [
    "_timing_summaries = timing_summaries[:-1]"
   ]
  },
  {
   "cell_type": "code",
   "execution_count": null,
   "id": "24ab6b88",
   "metadata": {},
   "outputs": [],
   "source": [
    "legend = ['CUDA on NVIDIA A100', 'OpenMP on AMD EPYC 7302', 'cpucuda on AMD EPYC 7302']\n",
    "plot_summaries(_timing_summaries, normalize=0, legend=legend)"
   ]
  },
  {
   "cell_type": "code",
   "execution_count": null,
   "id": "5ee05c82",
   "metadata": {},
   "outputs": [],
   "source": []
  }
 ],
 "metadata": {
  "kernelspec": {
   "display_name": "Python 3 (ipykernel)",
   "language": "python",
   "name": "python3"
  },
  "language_info": {
   "codemirror_mode": {
    "name": "ipython",
    "version": 3
   },
   "file_extension": ".py",
   "mimetype": "text/x-python",
   "name": "python",
   "nbconvert_exporter": "python",
   "pygments_lexer": "ipython3",
   "version": "3.9.9"
  }
 },
 "nbformat": 4,
 "nbformat_minor": 5
}
