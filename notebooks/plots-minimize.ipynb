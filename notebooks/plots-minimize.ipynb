{
 "cells": [
  {
   "cell_type": "code",
   "execution_count": null,
   "id": "bc4b0e6c",
   "metadata": {},
   "outputs": [],
   "source": [
    "%load_ext autoreload\n",
    "%autoreload 2"
   ]
  },
  {
   "cell_type": "code",
   "execution_count": null,
   "id": "a18a8965",
   "metadata": {},
   "outputs": [],
   "source": [
    "import numpy as np"
   ]
  },
  {
   "cell_type": "code",
   "execution_count": null,
   "id": "805b0bff",
   "metadata": {},
   "outputs": [],
   "source": [
    "import os\n",
    "import sys\n",
    "import inspect\n",
    "import glob\n",
    "\n",
    "currentdir = os.path.dirname(os.path.abspath(inspect.getfile(inspect.currentframe())))\n",
    "parentdir = os.path.dirname(currentdir)\n",
    "sys.path.insert(0, parentdir) "
   ]
  },
  {
   "cell_type": "code",
   "execution_count": null,
   "id": "329808f3",
   "metadata": {},
   "outputs": [],
   "source": [
    "from scripts.plot_timed_cuda import *"
   ]
  },
  {
   "cell_type": "code",
   "execution_count": null,
   "id": "89c2347e",
   "metadata": {},
   "outputs": [],
   "source": [
    "plt.rcParams['figure.figsize'] = [30, 10]\n",
    "plt.rcParams['figure.dpi'] = 200"
   ]
  },
  {
   "cell_type": "code",
   "execution_count": null,
   "id": "ad72f517",
   "metadata": {},
   "outputs": [],
   "source": [
    "timing_file_cuda = \"../kiev0/results/cuda/out/2021-12-06T18:50:57,497711605+0900.out\" # nvcc\n",
    "last_timing_files = [\n",
    "    \"../results/openmp/out/2022-01-12T18:09:43,578693563+09:00.out\", #openmp\n",
    "    \"../results/cuda/out/2022-01-12T14:16:00,174019558+09:00.out\", # cpucuda\n",
    "    \"../results/cuda/out/2022-01-12T11:51:30,811930753+09:00.out\", # polygeist\n",
    "]"
   ]
  },
  {
   "cell_type": "code",
   "execution_count": null,
   "id": "e88688d4",
   "metadata": {},
   "outputs": [],
   "source": [
    "def get_last_n_files(last, n):\n",
    "    dir = os.path.dirname(last)\n",
    "    files = glob.glob(dir + '/*')\n",
    "    files.sort()\n",
    "    for i, file in enumerate(files):\n",
    "        if file == last:\n",
    "            last_i = i;\n",
    "    return files[last_i - n + 1: last_i + 1]"
   ]
  },
  {
   "cell_type": "code",
   "execution_count": null,
   "id": "f1897600",
   "metadata": {},
   "outputs": [],
   "source": [
    "def find_min_summaries(summaries):\n",
    "    measurements = list(summaries[0][1].keys())\n",
    "    #print(measurements)\n",
    "    min_summaries = {}\n",
    "    for measurement in measurements:\n",
    "        min_id = np.argmin([summary[1][measurement] for summary in summaries])\n",
    "        min_summaries[measurement] = {\n",
    "            'omp_thread_num': summaries[min_id][0]['omp_thread_num'],\n",
    "            'time': summaries[min_id][1][measurement],\n",
    "        }\n",
    "    max_threads = max([summary[0]['omp_thread_num'] for summary in summaries])\n",
    "    return (\n",
    "        {\n",
    "            'hostname': summaries[0][0]['hostname'],\n",
    "            'compilername': summaries[0][0]['compilername'],\n",
    "            'omp_max_thread_num': max([int(summary[0]['omp_thread_num']) for summary in summaries])\n",
    "        },\n",
    "        min_summaries\n",
    "    )"
   ]
  },
  {
   "cell_type": "code",
   "execution_count": null,
   "id": "8e4fd551",
   "metadata": {},
   "outputs": [],
   "source": [
    "# files for 1 .. 64 threads\n",
    "timing_filess = [get_last_n_files(last, 64) for last in last_timing_files]\n",
    "timing_summariess = [[create_file_timing_data_summary(read_timing_data_from_file(f)) for f in timing_files] for timing_files in timing_filess]\n",
    "min_summaries = [find_min_summaries(timing_summaries) for timing_summaries in timing_summariess]"
   ]
  },
  {
   "cell_type": "code",
   "execution_count": null,
   "id": "55cc9ce6",
   "metadata": {},
   "outputs": [],
   "source": [
    "timing_summaries = [create_file_timing_data_summary(read_timing_data_from_file(timing_file_cuda))] + min_summaries"
   ]
  },
  {
   "cell_type": "code",
   "execution_count": null,
   "id": "beb05863",
   "metadata": {},
   "outputs": [],
   "source": [
    "plot_min_summaries(timing_summaries)"
   ]
  },
  {
   "cell_type": "code",
   "execution_count": null,
   "id": "722e8a3d",
   "metadata": {},
   "outputs": [],
   "source": [
    "def performance_difference(s1, s2):\n",
    "    kernels = set(s1[1].keys()).intersection(set(s2[1].keys()))\n",
    "    def get_time(v):\n",
    "        return v['time'] if type(v) == dict else v \n",
    "    def get_average_runtime(s):\n",
    "        return sum([get_time(v) for k, v in s[1].items() if k in kernels]) / len(kernels)\n",
    "    a1 = get_average_runtime(s1)\n",
    "    a2 = get_average_runtime(s2)\n",
    "    print('average times')\n",
    "    print('{}: {}'.format(s1[0], a1))\n",
    "    print('{}: {}'.format(s2[0], a2))\n",
    "    print('factor of {}'.format(a1 / a2 if a1 > a2 else a2 / a1))\n",
    "\n",
    "performance_difference(timing_summaries[1], timing_summaries[2])"
   ]
  }
 ],
 "metadata": {
  "kernelspec": {
   "display_name": "Python 3",
   "language": "python",
   "name": "python3"
  },
  "language_info": {
   "codemirror_mode": {
    "name": "ipython",
    "version": 3
   },
   "file_extension": ".py",
   "mimetype": "text/x-python",
   "name": "python",
   "nbconvert_exporter": "python",
   "pygments_lexer": "ipython3",
   "version": "3.6.8"
  }
 },
 "nbformat": 4,
 "nbformat_minor": 5
}
